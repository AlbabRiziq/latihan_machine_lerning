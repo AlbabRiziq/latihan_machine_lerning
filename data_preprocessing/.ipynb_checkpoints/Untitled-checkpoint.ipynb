{
 "cells": [
  {
   "cell_type": "code",
   "execution_count": 1,
   "id": "93b22c57-8aec-4e55-ac3a-56b2d282089b",
   "metadata": {},
   "outputs": [],
   "source": [
    "import numpy as np\n",
    "from sklearn import preprocessing"
   ]
  },
  {
   "cell_type": "code",
   "execution_count": 7,
   "id": "63825f47-c215-403b-9960-5fac90d5290e",
   "metadata": {},
   "outputs": [
    {
     "name": "stderr",
     "output_type": "stream",
     "text": [
      "C:\\Users\\Ulin\\AppData\\Local\\Temp\\ipykernel_3196\\3524855703.py:1: VisibleDeprecationWarning: Creating an ndarray from ragged nested sequences (which is a list-or-tuple of lists-or-tuples-or ndarrays with different lengths or shapes) is deprecated. If you meant to do this, you must specify 'dtype=object' when creating the ndarray.\n",
      "  sampel_data = np.array([[2.1, -1.9, 5,5],\n"
     ]
    }
   ],
   "source": [
    "sampel_data = np.array([[2.1, -1.9, 5,5],\n",
    "                       [-1.5, 2.4, 3.5],\n",
    "                       [0.5, -7.9, 5.6],\n",
    "                       [5.9, 2.3, -5.8]])"
   ]
  },
  {
   "cell_type": "code",
   "execution_count": 8,
   "id": "39af9f7a-3c03-4cfe-8a0b-75b5e585821d",
   "metadata": {},
   "outputs": [
    {
     "data": {
      "text/plain": [
       "array([list([2.1, -1.9, 5, 5]), list([-1.5, 2.4, 3.5]),\n",
       "       list([0.5, -7.9, 5.6]), list([5.9, 2.3, -5.8])], dtype=object)"
      ]
     },
     "execution_count": 8,
     "metadata": {},
     "output_type": "execute_result"
    }
   ],
   "source": [
    "sampel_data\n"
   ]
  }
 ],
 "metadata": {
  "kernelspec": {
   "display_name": "Python 3 (ipykernel)",
   "language": "python",
   "name": "python3"
  },
  "language_info": {
   "codemirror_mode": {
    "name": "ipython",
    "version": 3
   },
   "file_extension": ".py",
   "mimetype": "text/x-python",
   "name": "python",
   "nbconvert_exporter": "python",
   "pygments_lexer": "ipython3",
   "version": "3.10.8"
  }
 },
 "nbformat": 4,
 "nbformat_minor": 5
}
