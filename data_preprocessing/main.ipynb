{
 "cells": [
  {
   "cell_type": "code",
   "execution_count": 13,
   "id": "93b22c57-8aec-4e55-ac3a-56b2d282089b",
   "metadata": {},
   "outputs": [],
   "source": [
    "import numpy as np\n",
    "from sklearn import preprocessing"
   ]
  },
  {
   "attachments": {},
   "cell_type": "markdown",
   "id": "93c11a2f",
   "metadata": {},
   "source": [
    "# BINARIZER"
   ]
  },
  {
   "cell_type": "code",
   "execution_count": 22,
   "id": "63825f47-c215-403b-9960-5fac90d5290e",
   "metadata": {},
   "outputs": [],
   "source": [
    "sampel_data = np.array([[12.5 , 12.6, 12.4, 12.3],\n",
    "                        [2, 10.6, -12.4, 6.4]])"
   ]
  },
  {
   "cell_type": "code",
   "execution_count": 23,
   "id": "39af9f7a-3c03-4cfe-8a0b-75b5e585821d",
   "metadata": {},
   "outputs": [
    {
     "data": {
      "text/plain": [
       "array([[1., 1., 1., 1.],\n",
       "       [0., 1., 0., 1.]])"
      ]
     },
     "execution_count": 23,
     "metadata": {},
     "output_type": "execute_result"
    }
   ],
   "source": [
    "tes = preprocessing.Binarizer(threshold=2)\n",
    "tes = tes.transform(sampel_data)\n",
    "tes"
   ]
  }
 ],
 "metadata": {
  "kernelspec": {
   "display_name": "Python 3",
   "language": "python",
   "name": "python3"
  },
  "language_info": {
   "codemirror_mode": {
    "name": "ipython",
    "version": 3
   },
   "file_extension": ".py",
   "mimetype": "text/x-python",
   "name": "python",
   "nbconvert_exporter": "python",
   "pygments_lexer": "ipython3",
   "version": "3.10.8"
  },
  "vscode": {
   "interpreter": {
    "hash": "556772669ebe5a27ca40392875ce4b39cf56ba55ae837affcc4c3d448441d4cb"
   }
  }
 },
 "nbformat": 4,
 "nbformat_minor": 5
}
