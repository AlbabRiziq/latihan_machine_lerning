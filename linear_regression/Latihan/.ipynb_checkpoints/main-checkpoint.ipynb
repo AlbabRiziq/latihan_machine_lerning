{
 "cells": [
  {
   "cell_type": "code",
   "execution_count": 1,
   "metadata": {
    "tags": []
   },
   "outputs": [],
   "source": [
    "import numpy as np\n",
    "import matplotlib.pyplot as plt\n",
    "from matplotlib import style\n",
    "import pandas as pd\n",
    "\n",
    "style.use(\"Solarize_Light2\")"
   ]
  },
  {
   "cell_type": "markdown",
   "metadata": {},
   "source": [
    "### DATA"
   ]
  },
  {
   "cell_type": "code",
   "execution_count": 29,
   "metadata": {
    "tags": []
   },
   "outputs": [],
   "source": [
    "X = np.array([1, 2, 3, 4, 5])\n",
    "y = np.array([3, 4, 2, 4, 5])\n",
    "\n",
    "# df = pd.read_csv('./test.csv')\n",
    "# df.sort_values(by=[\"x\"], inplace=True)\n",
    "\n",
    "# X = df[\"x\"].to_numpy()\n",
    "# y = df[\"y\"].to_numpy()\n",
    "\n"
   ]
  },
  {
   "cell_type": "markdown",
   "metadata": {},
   "source": [
    "# LINEAR REGRESSION "
   ]
  },
  {
   "cell_type": "markdown",
   "metadata": {},
   "source": [
    " Dalam Statistik, regresi linear merupakan pendekatan untuk memodelkan hubungan antara suatu variabel dependen dengan satu atau lebih variabel independen. Salah satu aplikasi dari regresi linier adalah untuk melakukan prediksi berdasarkan data-data yang telah dimiliki sebelumnya"
   ]
  },
  {
   "cell_type": "markdown",
   "metadata": {},
   "source": [
    "#### LINEAR REGRESSION FROM SCRATCH"
   ]
  },
  {
   "cell_type": "code",
   "execution_count": 42,
   "metadata": {
    "tags": []
   },
   "outputs": [
    {
     "data": {
      "text/plain": [
       "<matplotlib.collections.PathCollection at 0x182d9c81360>"
      ]
     },
     "execution_count": 42,
     "metadata": {},
     "output_type": "execute_result"
    },
    {
     "data": {
      "image/png": "[encoded data removed]",
      "text/plain": [
       "<Figure size 640x480 with 1 Axes>"
      ]
     },
     "metadata": {},
     "output_type": "display_data"
    }
   ],
   "source": [
    "\n",
    "plt.scatter(X, y)\n",
    "# plt.ylim(0, 6)\n"
   ]
  },
  {
   "cell_type": "markdown",
   "metadata": {},
   "source": [
    "$$\n",
    "  y = mx + c\n",
    "$$\n",
    "\n",
    "\n",
    "\n",
    "\n",
    "$$\n",
    "  m = \\frac{\\sum (x-\\bar{x})(y-\\bar{y})}{\\sum(x-\\bar{x})^{2}}\n",
    "$$"
   ]
  },
  {
   "cell_type": "code",
   "execution_count": 43,
   "metadata": {
    "tags": []
   },
   "outputs": [],
   "source": [
    "def X_head(X, X_mean):\n",
    "    hasil = []\n",
    "    for i in range(len(X)):\n",
    "        hasil.append(X[i] - X_mean)\n",
    "        \n",
    "    return np.array(hasil)\n",
    "\n",
    "def y_head(y, y_mean):\n",
    "    hasil = []\n",
    "    for i in range(len(y)):\n",
    "        hasil.append(y[i] - y_mean)\n",
    "         \n",
    "    return np.array(hasil)\n",
    "\n",
    "def m_value(X, y, xhead, yhead):\n",
    "    x_squared = []\n",
    "    # print(X_head)\n",
    "    xy = []\n",
    "    for i in range(len(X)):\n",
    "       x_squared.append(xhead[i]**2)\n",
    "       xy.append(round((xhead[i])*(yhead[i]), 1))\n",
    "        # print(xy)\n",
    "        \n",
    "    return sum(xy)/sum(x_squared)\n",
    "    "
   ]
  },
  {
   "cell_type": "code",
   "execution_count": 44,
   "metadata": {
    "tags": []
   },
   "outputs": [
    {
     "data": {
      "text/plain": [
       "array([-2., -1.,  0.,  1.,  2.])"
      ]
     },
     "execution_count": 44,
     "metadata": {},
     "output_type": "execute_result"
    }
   ],
   "source": [
    "X_mean = np.mean(X)\n",
    "y_mean = np.mean(y)\n",
    "\n",
    "yHead = y_head(y, y_mean)\n",
    "xHead = X_head(X, X_mean)\n",
    "\n",
    "xHead\n"
   ]
  },
  {
   "cell_type": "code",
   "execution_count": 45,
   "metadata": {
    "tags": []
   },
   "outputs": [
    {
     "data": {
      "text/plain": [
       "0.4"
      ]
     },
     "execution_count": 45,
     "metadata": {},
     "output_type": "execute_result"
    }
   ],
   "source": [
    "# m_value(X, y, xHead, yHead)\n",
    "\n",
    "m = m_value(X, y, xHead, yHead)\n",
    "m"
   ]
  },
  {
   "cell_type": "markdown",
   "metadata": {},
   "source": [
    "### MENCARI NILAI C"
   ]
  },
  {
   "cell_type": "code",
   "execution_count": 46,
   "metadata": {
    "tags": []
   },
   "outputs": [],
   "source": [
    "def c_value(y, m, x):\n",
    "    return m * X_mean -  y\n"
   ]
  },
  {
   "cell_type": "code",
   "execution_count": 47,
   "metadata": {
    "tags": []
   },
   "outputs": [
    {
     "name": "stdout",
     "output_type": "stream",
     "text": [
      "3.6\n",
      "0.4\n",
      "3.0\n"
     ]
    },
    {
     "data": {
      "text/plain": [
       "-2.4"
      ]
     },
     "execution_count": 47,
     "metadata": {},
     "output_type": "execute_result"
    }
   ],
   "source": [
    "c = c_value(y_mean, m_value(X, y, xHead, yHead), X_mean)\n",
    "\n",
    "print(y_mean)\n",
    "print(m_value(X, y, xHead, yHead))\n",
    "print(X_mean)\n",
    "c"
   ]
  },
  {
   "cell_type": "markdown",
   "metadata": {},
   "source": [
    "### GRADIENT DESCENT"
   ]
  },
  {
   "cell_type": "code",
   "execution_count": 48,
   "metadata": {
    "tags": []
   },
   "outputs": [],
   "source": [
    "def gradien(m, x, c):\n",
    "    y = (m*x) + c\n",
    "    return y\n",
    "\n"
   ]
  },
  {
   "cell_type": "code",
   "execution_count": 49,
   "metadata": {
    "tags": []
   },
   "outputs": [
    {
     "data": {
      "text/plain": [
       "[-2.0,\n",
       " -1.5999999999999999,\n",
       " -1.1999999999999997,\n",
       " -0.7999999999999998,\n",
       " -0.3999999999999999]"
      ]
     },
     "execution_count": 49,
     "metadata": {},
     "output_type": "execute_result"
    }
   ],
   "source": [
    "y_pred = []\n",
    "\n",
    "for i in range(len(X)):\n",
    "    gradient = (gradien(m, X[i], c))\n",
    "    y_pred.append(gradient)\n",
    "    \n",
    "\n",
    "y_pred"
   ]
  },
  {
   "cell_type": "code",
   "execution_count": 50,
   "metadata": {
    "tags": []
   },
   "outputs": [
    {
     "data": {
      "text/plain": [
       "[<matplotlib.lines.Line2D at 0x182d99f4c40>]"
      ]
     },
     "execution_count": 50,
     "metadata": {},
     "output_type": "execute_result"
    },
    {
     "data": {
      "image/png": "[encoded data removed]",
      "text/plain": [
       "<Figure size 640x480 with 1 Axes>"
      ]
     },
     "metadata": {},
     "output_type": "display_data"
    }
   ],
   "source": [
    "plt.scatter(X, y)\n",
    "plt.plot(X, y_pred, color=\"red\")"
   ]
  },
  {
   "cell_type": "markdown",
   "metadata": {},
   "source": [
    "### R SQUARED\n"
   ]
  },
  {
   "cell_type": "code",
   "execution_count": 51,
   "metadata": {
    "tags": []
   },
   "outputs": [
    {
     "data": {
      "text/plain": [
       "array([31.36, 27.04, 23.04, 19.36, 16.  ])"
      ]
     },
     "execution_count": 51,
     "metadata": {},
     "output_type": "execute_result"
    }
   ],
   "source": [
    "(y_pred - y_mean)**2\n",
    "\n",
    "# (y - y_mean)**2"
   ]
  },
  {
   "cell_type": "code",
   "execution_count": 52,
   "metadata": {
    "tags": []
   },
   "outputs": [],
   "source": [
    "def r2(y_actual, y_mean, y_predd, yhead):\n",
    "    pembilang = []\n",
    "    penyebut = []\n",
    "    \n",
    "    for i in range(len(y_pred)):\n",
    "        atas = (y_pred[i] - y_mean)**2\n",
    "        bawah = (y_actual[i] - y_mean)**2\n",
    "        pembilang.append(round(atas, 3))\n",
    "        penyebut.append(round(bawah, 3))\n",
    "        \n",
    "    # print(sum(pembilang))\n",
    "    \n",
    "    return round(sum(pembilang)/sum(penyebut), 3)"
   ]
  },
  {
   "cell_type": "code",
   "execution_count": 53,
   "metadata": {
    "tags": []
   },
   "outputs": [
    {
     "data": {
      "text/plain": [
       "22.462"
      ]
     },
     "execution_count": 53,
     "metadata": {},
     "output_type": "execute_result"
    }
   ],
   "source": [
    "r2(y, y_mean, y_pred, yHead)"
   ]
  },
  {
   "cell_type": "code",
   "execution_count": null,
   "metadata": {},
   "outputs": [],
   "source": [
    "\n"
   ]
  },
  {
   "cell_type": "code",
   "execution_count": null,
   "metadata": {},
   "outputs": [],
   "source": []
  }
 ],
 "metadata": {
  "kernelspec": {
   "display_name": "Python 3 (ipykernel)",
   "language": "python",
   "name": "python3"
  },
  "language_info": {
   "codemirror_mode": {
    "name": "ipython",
    "version": 3
   },
   "file_extension": ".py",
   "mimetype": "text/x-python",
   "name": "python",
   "nbconvert_exporter": "python",
   "pygments_lexer": "ipython3",
   "version": "3.10.10"
  },
  "vscode": {
   "interpreter": {
    "hash": "556772669ebe5a27ca40392875ce4b39cf56ba55ae837affcc4c3d448441d4cb"
   }
  }
 },
 "nbformat": 4,
 "nbformat_minor": 4
}
