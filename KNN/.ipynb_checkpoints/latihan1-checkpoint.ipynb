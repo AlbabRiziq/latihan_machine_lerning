{
 "cells": [
  {
   "cell_type": "code",
   "execution_count": 2,
   "id": "b20e3ab9-a07f-4ac6-b53c-ceedadcec09c",
   "metadata": {
    "jupyter": {
     "source_hidden": true
    },
    "tags": []
   },
   "outputs": [],
   "source": [
    "import pandas as pd\n",
    "import matplotlib.pyplot as plt\n",
    "import numpy as np\n",
    "from matplotlib import style\n",
    "import seaborn as sea\n",
    "\n",
    "plt.style.use('Solarize_Light2')\n"
   ]
  },
  {
   "cell_type": "code",
   "execution_count": 3,
   "id": "f4444335-e312-42fe-b5ea-b89c97d8f83b",
   "metadata": {
    "tags": []
   },
   "outputs": [],
   "source": [
    "data = pd.read_csv('diabetes.csv')\n",
    "train_data = data[0:667]\n",
    "test_data = data[667:]"
   ]
  },
  {
   "cell_type": "code",
   "execution_count": 4,
   "id": "4c6d98c3-fdc2-405f-9e3a-3b8e0e2adf8f",
   "metadata": {
    "tags": []
   },
   "outputs": [
    {
     "data": {
      "text/html": [
       "<div>\n",
       "<style scoped>\n",
       "    .dataframe tbody tr th:only-of-type {\n",
       "        vertical-align: middle;\n",
       "    }\n",
       "\n",
       "    .dataframe tbody tr th {\n",
       "        vertical-align: top;\n",
       "    }\n",
       "\n",
       "    .dataframe thead th {\n",
       "        text-align: right;\n",
       "    }\n",
       "</style>\n",
       "<table border=\"1\" class=\"dataframe\">\n",
       "  <thead>\n",
       "    <tr style=\"text-align: right;\">\n",
       "      <th></th>\n",
       "      <th>Pregnancies</th>\n",
       "      <th>Glucose</th>\n",
       "      <th>BloodPressure</th>\n",
       "      <th>SkinThickness</th>\n",
       "      <th>Insulin</th>\n",
       "      <th>BMI</th>\n",
       "      <th>DiabetesPedigreeFunction</th>\n",
       "      <th>Age</th>\n",
       "      <th>Outcome</th>\n",
       "    </tr>\n",
       "  </thead>\n",
       "  <tbody>\n",
       "    <tr>\n",
       "      <th>0</th>\n",
       "      <td>6</td>\n",
       "      <td>148</td>\n",
       "      <td>72</td>\n",
       "      <td>35</td>\n",
       "      <td>0</td>\n",
       "      <td>33.6</td>\n",
       "      <td>0.627</td>\n",
       "      <td>50</td>\n",
       "      <td>1</td>\n",
       "    </tr>\n",
       "    <tr>\n",
       "      <th>1</th>\n",
       "      <td>1</td>\n",
       "      <td>85</td>\n",
       "      <td>66</td>\n",
       "      <td>29</td>\n",
       "      <td>0</td>\n",
       "      <td>26.6</td>\n",
       "      <td>0.351</td>\n",
       "      <td>31</td>\n",
       "      <td>0</td>\n",
       "    </tr>\n",
       "    <tr>\n",
       "      <th>2</th>\n",
       "      <td>8</td>\n",
       "      <td>183</td>\n",
       "      <td>64</td>\n",
       "      <td>0</td>\n",
       "      <td>0</td>\n",
       "      <td>23.3</td>\n",
       "      <td>0.672</td>\n",
       "      <td>32</td>\n",
       "      <td>1</td>\n",
       "    </tr>\n",
       "    <tr>\n",
       "      <th>3</th>\n",
       "      <td>1</td>\n",
       "      <td>89</td>\n",
       "      <td>66</td>\n",
       "      <td>23</td>\n",
       "      <td>94</td>\n",
       "      <td>28.1</td>\n",
       "      <td>0.167</td>\n",
       "      <td>21</td>\n",
       "      <td>0</td>\n",
       "    </tr>\n",
       "    <tr>\n",
       "      <th>4</th>\n",
       "      <td>0</td>\n",
       "      <td>137</td>\n",
       "      <td>40</td>\n",
       "      <td>35</td>\n",
       "      <td>168</td>\n",
       "      <td>43.1</td>\n",
       "      <td>2.288</td>\n",
       "      <td>33</td>\n",
       "      <td>1</td>\n",
       "    </tr>\n",
       "    <tr>\n",
       "      <th>...</th>\n",
       "      <td>...</td>\n",
       "      <td>...</td>\n",
       "      <td>...</td>\n",
       "      <td>...</td>\n",
       "      <td>...</td>\n",
       "      <td>...</td>\n",
       "      <td>...</td>\n",
       "      <td>...</td>\n",
       "      <td>...</td>\n",
       "    </tr>\n",
       "    <tr>\n",
       "      <th>763</th>\n",
       "      <td>10</td>\n",
       "      <td>101</td>\n",
       "      <td>76</td>\n",
       "      <td>48</td>\n",
       "      <td>180</td>\n",
       "      <td>32.9</td>\n",
       "      <td>0.171</td>\n",
       "      <td>63</td>\n",
       "      <td>0</td>\n",
       "    </tr>\n",
       "    <tr>\n",
       "      <th>764</th>\n",
       "      <td>2</td>\n",
       "      <td>122</td>\n",
       "      <td>70</td>\n",
       "      <td>27</td>\n",
       "      <td>0</td>\n",
       "      <td>36.8</td>\n",
       "      <td>0.340</td>\n",
       "      <td>27</td>\n",
       "      <td>0</td>\n",
       "    </tr>\n",
       "    <tr>\n",
       "      <th>765</th>\n",
       "      <td>5</td>\n",
       "      <td>121</td>\n",
       "      <td>72</td>\n",
       "      <td>23</td>\n",
       "      <td>112</td>\n",
       "      <td>26.2</td>\n",
       "      <td>0.245</td>\n",
       "      <td>30</td>\n",
       "      <td>0</td>\n",
       "    </tr>\n",
       "    <tr>\n",
       "      <th>766</th>\n",
       "      <td>1</td>\n",
       "      <td>126</td>\n",
       "      <td>60</td>\n",
       "      <td>0</td>\n",
       "      <td>0</td>\n",
       "      <td>30.1</td>\n",
       "      <td>0.349</td>\n",
       "      <td>47</td>\n",
       "      <td>1</td>\n",
       "    </tr>\n",
       "    <tr>\n",
       "      <th>767</th>\n",
       "      <td>1</td>\n",
       "      <td>93</td>\n",
       "      <td>70</td>\n",
       "      <td>31</td>\n",
       "      <td>0</td>\n",
       "      <td>30.4</td>\n",
       "      <td>0.315</td>\n",
       "      <td>23</td>\n",
       "      <td>0</td>\n",
       "    </tr>\n",
       "  </tbody>\n",
       "</table>\n",
       "<p>768 rows × 9 columns</p>\n",
       "</div>"
      ],
      "text/plain": [
       "     Pregnancies  Glucose  BloodPressure  SkinThickness  Insulin   BMI  \\\n",
       "0              6      148             72             35        0  33.6   \n",
       "1              1       85             66             29        0  26.6   \n",
       "2              8      183             64              0        0  23.3   \n",
       "3              1       89             66             23       94  28.1   \n",
       "4              0      137             40             35      168  43.1   \n",
       "..           ...      ...            ...            ...      ...   ...   \n",
       "763           10      101             76             48      180  32.9   \n",
       "764            2      122             70             27        0  36.8   \n",
       "765            5      121             72             23      112  26.2   \n",
       "766            1      126             60              0        0  30.1   \n",
       "767            1       93             70             31        0  30.4   \n",
       "\n",
       "     DiabetesPedigreeFunction  Age  Outcome  \n",
       "0                       0.627   50        1  \n",
       "1                       0.351   31        0  \n",
       "2                       0.672   32        1  \n",
       "3                       0.167   21        0  \n",
       "4                       2.288   33        1  \n",
       "..                        ...  ...      ...  \n",
       "763                     0.171   63        0  \n",
       "764                     0.340   27        0  \n",
       "765                     0.245   30        0  \n",
       "766                     0.349   47        1  \n",
       "767                     0.315   23        0  \n",
       "\n",
       "[768 rows x 9 columns]"
      ]
     },
     "execution_count": 4,
     "metadata": {},
     "output_type": "execute_result"
    }
   ],
   "source": [
    "data"
   ]
  },
  {
   "cell_type": "code",
   "execution_count": null,
   "id": "87284ddf-14e3-4c2e-a72c-77910140b278",
   "metadata": {},
   "outputs": [],
   "source": []
  },
  {
   "cell_type": "code",
   "execution_count": 5,
   "id": "673c1607-b514-4604-b2b6-73784dd91175",
   "metadata": {
    "tags": []
   },
   "outputs": [],
   "source": [
    "data_copy = data.copy()\n",
    "\n",
    "data_copy[[\"Glucose\", \"BloodPressure\", \"SkinThickness\", \"Insulin\", \"BMI\"]] = data_copy[[\"Glucose\", \"BloodPressure\", \"SkinThickness\", \"Insulin\", \"BMI\"]].replace(0, np.NaN)\n",
    "\n",
    "\n",
    "\n",
    "data_copy[\"Glucose\"].fillna(data_copy[\"Glucose\"].mean(), inplace=True)\n",
    "data_copy[\"BloodPressure\"].fillna(data_copy[\"BloodPressure\"].mean(), inplace=True)\n",
    "data_copy[\"SkinThickness\"].fillna(data_copy[\"SkinThickness\"].mean(), inplace=True)\n",
    "data_copy[\"Insulin\"].fillna(data_copy[\"Insulin\"].mean(), inplace=True)\n",
    "data_copy[\"BMI\"].fillna(data_copy[\"BMI\"].mean(), inplace=True)\n",
    "\n",
    "\n",
    "X = data_copy[[\"Glucose\", \"BloodPressure\", \"SkinThickness\", \"Insulin\", \"BMI\"]].to_numpy()\n",
    "y = data_copy[\"Outcome\"]\n"
   ]
  },
  {
   "cell_type": "code",
   "execution_count": 11,
   "id": "96c18ef3-d79e-4d39-8f10-6e2edac42595",
   "metadata": {
    "tags": []
   },
   "outputs": [],
   "source": [
    "# p = sea.pairplot(data_copy, hue = 'Outcome')"
   ]
  },
  {
   "cell_type": "code",
   "execution_count": null,
   "id": "76194b9d-7f2a-44c0-83da-dcc328ef6c07",
   "metadata": {},
   "outputs": [],
   "source": [
    "sns.his"
   ]
  },
  {
   "cell_type": "markdown",
   "id": "cde54ad0-db6a-4f48-9c51-fe969de17c1c",
   "metadata": {
    "tags": []
   },
   "source": [
    "# SPLIT DATA"
   ]
  },
  {
   "cell_type": "code",
   "execution_count": null,
   "id": "f13ccc62-d385-4807-819c-500e958a61ed",
   "metadata": {
    "tags": []
   },
   "outputs": [],
   "source": [
    "X_train = data_copy[[\"Glucose\", \"BloodPressure\", \"SkinThickness\", \"Insulin\", \"BMI\"]][0:750]\n",
    "y_train = data_copy['Outcome'][0:750]\n",
    "\n",
    "X_test = data_copy[[\"Glucose\", \"BloodPressure\", \"SkinThickness\", \"Insulin\", \"BMI\"]][750:]\n",
    "y_test = data_copy['Outcome'][750:]\n"
   ]
  },
  {
   "cell_type": "code",
   "execution_count": null,
   "id": "61c1be7c-2ab7-48b1-b852-d623effc6f07",
   "metadata": {
    "tags": []
   },
   "outputs": [],
   "source": []
  },
  {
   "cell_type": "code",
   "execution_count": null,
   "id": "c26c29a4-cda0-4164-b8c5-62ec5d2f3c13",
   "metadata": {
    "tags": []
   },
   "outputs": [],
   "source": [
    "from sklearn.neighbors import KNeighborsClassifier"
   ]
  },
  {
   "cell_type": "code",
   "execution_count": null,
   "id": "bcd5bf45-352d-4915-86bf-1e4529beb41b",
   "metadata": {
    "tags": []
   },
   "outputs": [],
   "source": [
    "model = KNeighborsClassifier()\n",
    "\n",
    "model.fit(X_train, y_train)\n",
    "\n",
    "\n",
    "X_testt = data_copy[[\"Glucose\", \"BloodPressure\", \"SkinThickness\", \"Insulin\", \"BMI\"]].to_numpy()\n",
    "y_testt = data_copy['Outcome'].to_numpy().reshape(1, -1)\n",
    "\n",
    "\n",
    "\n",
    "X_anyar = X_testt[758].reshape(1, -1)\n",
    "\n",
    "\n",
    "y_anyar = model.predict(X_anyar)\n",
    "\n",
    "\n",
    "\n"
   ]
  },
  {
   "cell_type": "code",
   "execution_count": null,
   "id": "15a92640-d9e0-43e0-b781-da4a7873eec0",
   "metadata": {
    "tags": []
   },
   "outputs": [],
   "source": [
    "print(model.predict(X_test))\n",
    "\n",
    "print(y_test)"
   ]
  },
  {
   "cell_type": "code",
   "execution_count": null,
   "id": "504925e6-dea4-436b-9bd4-e216754b97bc",
   "metadata": {},
   "outputs": [],
   "source": []
  },
  {
   "cell_type": "code",
   "execution_count": 15,
   "id": "4906acc5-4dec-4288-be44-ba6cb25005cc",
   "metadata": {},
   "outputs": [
    {
     "ename": "UnboundLocalError",
     "evalue": "local variable 'midpoint' referenced before assignment",
     "output_type": "error",
     "traceback": [
      "\u001b[1;31m---------------------------------------------------------------------------\u001b[0m",
      "\u001b[1;31mUnboundLocalError\u001b[0m                         Traceback (most recent call last)",
      "Cell \u001b[1;32mIn[15], line 20\u001b[0m\n\u001b[0;32m     17\u001b[0m   \u001b[38;5;28;01mreturn\u001b[39;00m found\n\u001b[0;32m     19\u001b[0m teslist\u001b[38;5;241m=\u001b[39m[\u001b[38;5;241m1\u001b[39m,\u001b[38;5;241m2\u001b[39m,\u001b[38;5;241m32\u001b[39m,\u001b[38;5;241m8\u001b[39m,\u001b[38;5;241m17\u001b[39m,\u001b[38;5;241m19\u001b[39m,\u001b[38;5;241m42\u001b[39m,\u001b[38;5;241m13\u001b[39m,\u001b[38;5;241m0\u001b[39m]\n\u001b[1;32m---> 20\u001b[0m \u001b[38;5;28mprint\u001b[39m(\u001b[38;5;124m'\u001b[39m\u001b[38;5;124mcari nilai 3:\u001b[39m\u001b[38;5;124m'\u001b[39m, \u001b[43mbinarySearch\u001b[49m\u001b[43m(\u001b[49m\u001b[43mteslist\u001b[49m\u001b[43m,\u001b[49m\u001b[43m \u001b[49m\u001b[38;5;241;43m3\u001b[39;49m\u001b[43m)\u001b[49m)\n\u001b[0;32m     21\u001b[0m \u001b[38;5;28mprint\u001b[39m(\u001b[38;5;124m'\u001b[39m\u001b[38;5;124mcari nilai 42: \u001b[39m\u001b[38;5;124m'\u001b[39m, binarySearch(teslist, \u001b[38;5;241m42\u001b[39m))\n",
      "Cell \u001b[1;32mIn[15], line 7\u001b[0m, in \u001b[0;36mbinarySearch\u001b[1;34m(alist, item)\u001b[0m\n\u001b[0;32m      4\u001b[0m found \u001b[38;5;241m=\u001b[39m \u001b[38;5;28;01mFalse\u001b[39;00m\n\u001b[0;32m      6\u001b[0m \u001b[38;5;28;01mwhile\u001b[39;00m first \u001b[38;5;241m<\u001b[39m\u001b[38;5;241m=\u001b[39m last \u001b[38;5;129;01mand\u001b[39;00m \u001b[38;5;129;01mnot\u001b[39;00m found:\n\u001b[1;32m----> 7\u001b[0m   \u001b[38;5;28mprint\u001b[39m(\u001b[43mmidpoint\u001b[49m)\n\u001b[0;32m      8\u001b[0m   midpoint \u001b[38;5;241m=\u001b[39m (first\u001b[38;5;241m+\u001b[39mlast)\u001b[38;5;241m/\u001b[39m\u001b[38;5;241m/\u001b[39m\u001b[38;5;241m2\u001b[39m\n\u001b[0;32m      9\u001b[0m   \u001b[38;5;28;01mif\u001b[39;00m alist[midpoint] \u001b[38;5;241m==\u001b[39m item:\n",
      "\u001b[1;31mUnboundLocalError\u001b[0m: local variable 'midpoint' referenced before assignment"
     ]
    }
   ],
   "source": [
    "def binarySearch(alist, item):\n",
    "  first = 0\n",
    "  last = len(alist)-1\n",
    "  found = False\n",
    "\n",
    "  while first <= last and not found:\n",
    "    midpoint = (first+last)//2\n",
    "    print(midpoint)\n",
    "    if alist[midpoint] == item:\n",
    "      found = True\n",
    "      print('Data ditemukan pada urutan ke', midpoint+1)\n",
    "    else:\n",
    "      if item < alist[midpoint]:\n",
    "        last = midpoint - 1\n",
    "      else:\n",
    "        first = midpoint+1\n",
    "  return found\n",
    "\n",
    "teslist=[1,2,32,8,17,19,42,13,0]\n",
    "print('cari nilai 3:', binarySearch(teslist, 3))\n",
    "print('cari nilai 42: ', binarySearch(teslist, 42))"
   ]
  },
  {
   "cell_type": "code",
   "execution_count": null,
   "id": "64fcaf77-62c9-43ef-ac68-2f80fec28f94",
   "metadata": {},
   "outputs": [],
   "source": []
  }
 ],
 "metadata": {
  "kernelspec": {
   "display_name": "Python 3 (ipykernel)",
   "language": "python",
   "name": "python3"
  },
  "language_info": {
   "codemirror_mode": {
    "name": "ipython",
    "version": 3
   },
   "file_extension": ".py",
   "mimetype": "text/x-python",
   "name": "python",
   "nbconvert_exporter": "python",
   "pygments_lexer": "ipython3",
   "version": "3.10.8"
  }
 },
 "nbformat": 4,
 "nbformat_minor": 5
}
