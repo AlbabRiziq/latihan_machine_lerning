{
 "cells": [
  {
   "cell_type": "code",
   "execution_count": 1,
   "metadata": {},
   "outputs": [],
   "source": [
    "import pandas as pd\n",
    "import matplotlib.pyplot as plt\n",
    "from matplotlib import style\n",
    "import numpy as np"
   ]
  },
  {
   "cell_type": "code",
   "execution_count": 2,
   "metadata": {},
   "outputs": [],
   "source": [
    "style.use('Solarize_Light2')"
   ]
  },
  {
   "cell_type": "code",
   "execution_count": 3,
   "metadata": {},
   "outputs": [
    {
     "data": {
      "text/html": [
       "<div>\n",
       "<style scoped>\n",
       "    .dataframe tbody tr th:only-of-type {\n",
       "        vertical-align: middle;\n",
       "    }\n",
       "\n",
       "    .dataframe tbody tr th {\n",
       "        vertical-align: top;\n",
       "    }\n",
       "\n",
       "    .dataframe thead th {\n",
       "        text-align: right;\n",
       "    }\n",
       "</style>\n",
       "<table border=\"1\" class=\"dataframe\">\n",
       "  <thead>\n",
       "    <tr style=\"text-align: right;\">\n",
       "      <th></th>\n",
       "      <th>Status Pernikahan</th>\n",
       "      <th>Program Studi</th>\n",
       "      <th>Kelas Siang/Malam</th>\n",
       "      <th>Daerah Asal</th>\n",
       "      <th>Pendidikan Ibu</th>\n",
       "      <th>Pendidikan Ayah</th>\n",
       "      <th>Pekerjaan Ibu</th>\n",
       "      <th>Pekerjaan Ayah</th>\n",
       "      <th>Nilai Ujian Masuk</th>\n",
       "      <th>Pindahan</th>\n",
       "      <th>Berkebutuhan Khusus</th>\n",
       "      <th>Jenis Kelamin</th>\n",
       "      <th>Beasiswa</th>\n",
       "      <th>Usia saat mendaftar</th>\n",
       "      <th>IP Semester 1</th>\n",
       "      <th>Target</th>\n",
       "    </tr>\n",
       "  </thead>\n",
       "  <tbody>\n",
       "    <tr>\n",
       "      <th>0</th>\n",
       "      <td>Belum Menikah</td>\n",
       "      <td>Perbankan</td>\n",
       "      <td>Siang</td>\n",
       "      <td>Pulau Jawa</td>\n",
       "      <td>Dibawah SMA/Sederajat</td>\n",
       "      <td>Dibawah SMA/Sederajat</td>\n",
       "      <td>Lainnya</td>\n",
       "      <td>Lainnya</td>\n",
       "      <td>52,95</td>\n",
       "      <td>Tidak</td>\n",
       "      <td>Tidak</td>\n",
       "      <td>Perempuan</td>\n",
       "      <td>Tidak</td>\n",
       "      <td>35</td>\n",
       "      <td>2,36</td>\n",
       "      <td>Lulus Tidak Tepat Waktu</td>\n",
       "    </tr>\n",
       "    <tr>\n",
       "      <th>1</th>\n",
       "      <td>Belum Menikah</td>\n",
       "      <td>Teknik Mesin</td>\n",
       "      <td>Siang</td>\n",
       "      <td>Pulau Jawa</td>\n",
       "      <td>Dibawah SMA/Sederajat</td>\n",
       "      <td>Dibawah SMA/Sederajat</td>\n",
       "      <td>Wiraswasta</td>\n",
       "      <td>Lainnya</td>\n",
       "      <td>66,05</td>\n",
       "      <td>Ya</td>\n",
       "      <td>Tidak</td>\n",
       "      <td>Perempuan</td>\n",
       "      <td>Tidak</td>\n",
       "      <td>19</td>\n",
       "      <td>2,75</td>\n",
       "      <td>Lulus Tepat Waktu</td>\n",
       "    </tr>\n",
       "    <tr>\n",
       "      <th>2</th>\n",
       "      <td>Belum Menikah</td>\n",
       "      <td>Agronomi</td>\n",
       "      <td>Siang</td>\n",
       "      <td>Pulau Jawa</td>\n",
       "      <td>SMA/Sederajat</td>\n",
       "      <td>SMA/Sederajat</td>\n",
       "      <td>Wiraswasta</td>\n",
       "      <td>Lainnya</td>\n",
       "      <td>63,7</td>\n",
       "      <td>Ya</td>\n",
       "      <td>Tidak</td>\n",
       "      <td>Perempuan</td>\n",
       "      <td>Tidak</td>\n",
       "      <td>20</td>\n",
       "      <td>2,23</td>\n",
       "      <td>Lulus Tepat Waktu</td>\n",
       "    </tr>\n",
       "    <tr>\n",
       "      <th>3</th>\n",
       "      <td>Belum Menikah</td>\n",
       "      <td>Perbankan</td>\n",
       "      <td>Siang</td>\n",
       "      <td>Pulau Jawa</td>\n",
       "      <td>SMA/Sederajat</td>\n",
       "      <td>SMA/Sederajat</td>\n",
       "      <td>Lainnya</td>\n",
       "      <td>Lainnya</td>\n",
       "      <td>64,75</td>\n",
       "      <td>Ya</td>\n",
       "      <td>Tidak</td>\n",
       "      <td>Perempuan</td>\n",
       "      <td>Tidak</td>\n",
       "      <td>18</td>\n",
       "      <td>2,46</td>\n",
       "      <td>Lulus Tepat Waktu</td>\n",
       "    </tr>\n",
       "    <tr>\n",
       "      <th>4</th>\n",
       "      <td>Belum Menikah</td>\n",
       "      <td>Agronomi</td>\n",
       "      <td>Siang</td>\n",
       "      <td>Pulau Jawa</td>\n",
       "      <td>Lebih dari S1</td>\n",
       "      <td>Lebih dari S1</td>\n",
       "      <td>Pegawai Negri</td>\n",
       "      <td>Lainnya</td>\n",
       "      <td>63,35</td>\n",
       "      <td>Tidak</td>\n",
       "      <td>Tidak</td>\n",
       "      <td>Perempuan</td>\n",
       "      <td>Tidak</td>\n",
       "      <td>21</td>\n",
       "      <td>2,43</td>\n",
       "      <td>Lulus Tepat Waktu</td>\n",
       "    </tr>\n",
       "    <tr>\n",
       "      <th>...</th>\n",
       "      <td>...</td>\n",
       "      <td>...</td>\n",
       "      <td>...</td>\n",
       "      <td>...</td>\n",
       "      <td>...</td>\n",
       "      <td>...</td>\n",
       "      <td>...</td>\n",
       "      <td>...</td>\n",
       "      <td>...</td>\n",
       "      <td>...</td>\n",
       "      <td>...</td>\n",
       "      <td>...</td>\n",
       "      <td>...</td>\n",
       "      <td>...</td>\n",
       "      <td>...</td>\n",
       "      <td>...</td>\n",
       "    </tr>\n",
       "    <tr>\n",
       "      <th>95</th>\n",
       "      <td>Belum Menikah</td>\n",
       "      <td>Perpustakaan</td>\n",
       "      <td>Siang</td>\n",
       "      <td>Pulau Jawa</td>\n",
       "      <td>Dibawah SMA/Sederajat</td>\n",
       "      <td>Dibawah SMA/Sederajat</td>\n",
       "      <td>Lainnya</td>\n",
       "      <td>Lainnya</td>\n",
       "      <td>75</td>\n",
       "      <td>Tidak</td>\n",
       "      <td>Tidak</td>\n",
       "      <td>Perempuan</td>\n",
       "      <td>Tidak</td>\n",
       "      <td>35</td>\n",
       "      <td>2,80</td>\n",
       "      <td>Lulus Tepat Waktu</td>\n",
       "    </tr>\n",
       "    <tr>\n",
       "      <th>96</th>\n",
       "      <td>Belum Menikah</td>\n",
       "      <td>Hubungan Masyarakat</td>\n",
       "      <td>Siang</td>\n",
       "      <td>Pulau Jawa</td>\n",
       "      <td>Lebih dari S1</td>\n",
       "      <td>Lebih dari S1</td>\n",
       "      <td>Pegawai Swasta</td>\n",
       "      <td>Lainnya</td>\n",
       "      <td>65</td>\n",
       "      <td>Ya</td>\n",
       "      <td>Tidak</td>\n",
       "      <td>Perempuan</td>\n",
       "      <td>Tidak</td>\n",
       "      <td>26</td>\n",
       "      <td>2,60</td>\n",
       "      <td>Lulus Tidak Tepat Waktu</td>\n",
       "    </tr>\n",
       "    <tr>\n",
       "      <th>97</th>\n",
       "      <td>Belum Menikah</td>\n",
       "      <td>Jurnalistik</td>\n",
       "      <td>Siang</td>\n",
       "      <td>Pulau Jawa</td>\n",
       "      <td>SMA/Sederajat</td>\n",
       "      <td>SMA/Sederajat</td>\n",
       "      <td>Lainnya</td>\n",
       "      <td>Pegawai Negri</td>\n",
       "      <td>67,55</td>\n",
       "      <td>Ya</td>\n",
       "      <td>Tidak</td>\n",
       "      <td>Perempuan</td>\n",
       "      <td>Tidak</td>\n",
       "      <td>18</td>\n",
       "      <td>2,70</td>\n",
       "      <td>Lulus Tepat Waktu</td>\n",
       "    </tr>\n",
       "    <tr>\n",
       "      <th>98</th>\n",
       "      <td>Belum Menikah</td>\n",
       "      <td>Agronomi</td>\n",
       "      <td>Siang</td>\n",
       "      <td>Pulau Jawa</td>\n",
       "      <td>Lebih dari S1</td>\n",
       "      <td>Lebih dari S1</td>\n",
       "      <td>Pegawai Swasta</td>\n",
       "      <td>Pegawai Swasta</td>\n",
       "      <td>55</td>\n",
       "      <td>Tidak</td>\n",
       "      <td>Tidak</td>\n",
       "      <td>Perempuan</td>\n",
       "      <td>Tidak</td>\n",
       "      <td>36</td>\n",
       "      <td>2,14</td>\n",
       "      <td>Lulus Tidak Tepat Waktu</td>\n",
       "    </tr>\n",
       "    <tr>\n",
       "      <th>99</th>\n",
       "      <td>Cerai</td>\n",
       "      <td>Ekonomi</td>\n",
       "      <td>Malam</td>\n",
       "      <td>Pulau Jawa</td>\n",
       "      <td>Lebih dari S1</td>\n",
       "      <td>Lebih dari S1</td>\n",
       "      <td>Lainnya</td>\n",
       "      <td>Lainnya</td>\n",
       "      <td>68,1</td>\n",
       "      <td>Tidak</td>\n",
       "      <td>Tidak</td>\n",
       "      <td>Perempuan</td>\n",
       "      <td>Tidak</td>\n",
       "      <td>39</td>\n",
       "      <td>2,20</td>\n",
       "      <td>Lulus Tepat Waktu</td>\n",
       "    </tr>\n",
       "  </tbody>\n",
       "</table>\n",
       "<p>100 rows × 16 columns</p>\n",
       "</div>"
      ],
      "text/plain": [
       "   Status Pernikahan        Program Studi Kelas Siang/Malam Daerah Asal  \\\n",
       "0      Belum Menikah            Perbankan             Siang  Pulau Jawa   \n",
       "1      Belum Menikah         Teknik Mesin             Siang  Pulau Jawa   \n",
       "2      Belum Menikah             Agronomi             Siang  Pulau Jawa   \n",
       "3      Belum Menikah            Perbankan             Siang  Pulau Jawa   \n",
       "4      Belum Menikah             Agronomi             Siang  Pulau Jawa   \n",
       "..               ...                  ...               ...         ...   \n",
       "95     Belum Menikah         Perpustakaan             Siang  Pulau Jawa   \n",
       "96     Belum Menikah  Hubungan Masyarakat             Siang  Pulau Jawa   \n",
       "97     Belum Menikah          Jurnalistik             Siang  Pulau Jawa   \n",
       "98     Belum Menikah             Agronomi             Siang  Pulau Jawa   \n",
       "99             Cerai              Ekonomi             Malam  Pulau Jawa   \n",
       "\n",
       "           Pendidikan Ibu        Pendidikan Ayah   Pekerjaan Ibu  \\\n",
       "0   Dibawah SMA/Sederajat  Dibawah SMA/Sederajat         Lainnya   \n",
       "1   Dibawah SMA/Sederajat  Dibawah SMA/Sederajat      Wiraswasta   \n",
       "2           SMA/Sederajat          SMA/Sederajat      Wiraswasta   \n",
       "3           SMA/Sederajat          SMA/Sederajat         Lainnya   \n",
       "4           Lebih dari S1          Lebih dari S1   Pegawai Negri   \n",
       "..                    ...                    ...             ...   \n",
       "95  Dibawah SMA/Sederajat  Dibawah SMA/Sederajat         Lainnya   \n",
       "96          Lebih dari S1          Lebih dari S1  Pegawai Swasta   \n",
       "97          SMA/Sederajat          SMA/Sederajat         Lainnya   \n",
       "98          Lebih dari S1          Lebih dari S1  Pegawai Swasta   \n",
       "99          Lebih dari S1          Lebih dari S1         Lainnya   \n",
       "\n",
       "    Pekerjaan Ayah Nilai Ujian Masuk Pindahan Berkebutuhan Khusus  \\\n",
       "0          Lainnya             52,95    Tidak               Tidak   \n",
       "1          Lainnya             66,05       Ya               Tidak   \n",
       "2          Lainnya              63,7       Ya               Tidak   \n",
       "3          Lainnya             64,75       Ya               Tidak   \n",
       "4          Lainnya             63,35    Tidak               Tidak   \n",
       "..             ...               ...      ...                 ...   \n",
       "95         Lainnya                75    Tidak               Tidak   \n",
       "96         Lainnya                65       Ya               Tidak   \n",
       "97   Pegawai Negri             67,55       Ya               Tidak   \n",
       "98  Pegawai Swasta                55    Tidak               Tidak   \n",
       "99         Lainnya              68,1    Tidak               Tidak   \n",
       "\n",
       "   Jenis Kelamin Beasiswa  Usia saat mendaftar IP Semester 1  \\\n",
       "0      Perempuan    Tidak                   35          2,36   \n",
       "1      Perempuan    Tidak                   19          2,75   \n",
       "2      Perempuan    Tidak                   20          2,23   \n",
       "3      Perempuan    Tidak                   18          2,46   \n",
       "4      Perempuan    Tidak                   21          2,43   \n",
       "..           ...      ...                  ...           ...   \n",
       "95     Perempuan    Tidak                   35          2,80   \n",
       "96     Perempuan    Tidak                   26          2,60   \n",
       "97     Perempuan    Tidak                   18          2,70   \n",
       "98     Perempuan    Tidak                   36          2,14   \n",
       "99     Perempuan    Tidak                   39          2,20   \n",
       "\n",
       "                     Target  \n",
       "0   Lulus Tidak Tepat Waktu  \n",
       "1         Lulus Tepat Waktu  \n",
       "2         Lulus Tepat Waktu  \n",
       "3         Lulus Tepat Waktu  \n",
       "4         Lulus Tepat Waktu  \n",
       "..                      ...  \n",
       "95        Lulus Tepat Waktu  \n",
       "96  Lulus Tidak Tepat Waktu  \n",
       "97        Lulus Tepat Waktu  \n",
       "98  Lulus Tidak Tepat Waktu  \n",
       "99        Lulus Tepat Waktu  \n",
       "\n",
       "[100 rows x 16 columns]"
      ]
     },
     "execution_count": 3,
     "metadata": {},
     "output_type": "execute_result"
    }
   ],
   "source": [
    "data = pd.read_csv(\"./klasifikasi2.csv\")\n",
    "data"
   ]
  },
  {
   "cell_type": "markdown",
   "metadata": {},
   "source": [
    "## DATA CLEANING (MENGHAPUS COLUMN DATA YANG TIDAK DIPERLUKAN)"
   ]
  },
  {
   "cell_type": "code",
   "execution_count": 4,
   "metadata": {},
   "outputs": [
    {
     "data": {
      "text/html": [
       "<div>\n",
       "<style scoped>\n",
       "    .dataframe tbody tr th:only-of-type {\n",
       "        vertical-align: middle;\n",
       "    }\n",
       "\n",
       "    .dataframe tbody tr th {\n",
       "        vertical-align: top;\n",
       "    }\n",
       "\n",
       "    .dataframe thead th {\n",
       "        text-align: right;\n",
       "    }\n",
       "</style>\n",
       "<table border=\"1\" class=\"dataframe\">\n",
       "  <thead>\n",
       "    <tr style=\"text-align: right;\">\n",
       "      <th></th>\n",
       "      <th>Nilai Ujian Masuk</th>\n",
       "      <th>IP Semester 1</th>\n",
       "      <th>Target</th>\n",
       "    </tr>\n",
       "  </thead>\n",
       "  <tbody>\n",
       "    <tr>\n",
       "      <th>0</th>\n",
       "      <td>52,95</td>\n",
       "      <td>2,36</td>\n",
       "      <td>Lulus Tidak Tepat Waktu</td>\n",
       "    </tr>\n",
       "    <tr>\n",
       "      <th>1</th>\n",
       "      <td>66,05</td>\n",
       "      <td>2,75</td>\n",
       "      <td>Lulus Tepat Waktu</td>\n",
       "    </tr>\n",
       "    <tr>\n",
       "      <th>2</th>\n",
       "      <td>63,7</td>\n",
       "      <td>2,23</td>\n",
       "      <td>Lulus Tepat Waktu</td>\n",
       "    </tr>\n",
       "    <tr>\n",
       "      <th>3</th>\n",
       "      <td>64,75</td>\n",
       "      <td>2,46</td>\n",
       "      <td>Lulus Tepat Waktu</td>\n",
       "    </tr>\n",
       "    <tr>\n",
       "      <th>4</th>\n",
       "      <td>63,35</td>\n",
       "      <td>2,43</td>\n",
       "      <td>Lulus Tepat Waktu</td>\n",
       "    </tr>\n",
       "    <tr>\n",
       "      <th>...</th>\n",
       "      <td>...</td>\n",
       "      <td>...</td>\n",
       "      <td>...</td>\n",
       "    </tr>\n",
       "    <tr>\n",
       "      <th>95</th>\n",
       "      <td>75</td>\n",
       "      <td>2,80</td>\n",
       "      <td>Lulus Tepat Waktu</td>\n",
       "    </tr>\n",
       "    <tr>\n",
       "      <th>96</th>\n",
       "      <td>65</td>\n",
       "      <td>2,60</td>\n",
       "      <td>Lulus Tidak Tepat Waktu</td>\n",
       "    </tr>\n",
       "    <tr>\n",
       "      <th>97</th>\n",
       "      <td>67,55</td>\n",
       "      <td>2,70</td>\n",
       "      <td>Lulus Tepat Waktu</td>\n",
       "    </tr>\n",
       "    <tr>\n",
       "      <th>98</th>\n",
       "      <td>55</td>\n",
       "      <td>2,14</td>\n",
       "      <td>Lulus Tidak Tepat Waktu</td>\n",
       "    </tr>\n",
       "    <tr>\n",
       "      <th>99</th>\n",
       "      <td>68,1</td>\n",
       "      <td>2,20</td>\n",
       "      <td>Lulus Tepat Waktu</td>\n",
       "    </tr>\n",
       "  </tbody>\n",
       "</table>\n",
       "<p>100 rows × 3 columns</p>\n",
       "</div>"
      ],
      "text/plain": [
       "   Nilai Ujian Masuk IP Semester 1                   Target\n",
       "0              52,95          2,36  Lulus Tidak Tepat Waktu\n",
       "1              66,05          2,75        Lulus Tepat Waktu\n",
       "2               63,7          2,23        Lulus Tepat Waktu\n",
       "3              64,75          2,46        Lulus Tepat Waktu\n",
       "4              63,35          2,43        Lulus Tepat Waktu\n",
       "..               ...           ...                      ...\n",
       "95                75          2,80        Lulus Tepat Waktu\n",
       "96                65          2,60  Lulus Tidak Tepat Waktu\n",
       "97             67,55          2,70        Lulus Tepat Waktu\n",
       "98                55          2,14  Lulus Tidak Tepat Waktu\n",
       "99              68,1          2,20        Lulus Tepat Waktu\n",
       "\n",
       "[100 rows x 3 columns]"
      ]
     },
     "execution_count": 4,
     "metadata": {},
     "output_type": "execute_result"
    }
   ],
   "source": [
    "data_copy = data.drop(columns=[\"Status Pernikahan\", \"Program Studi\", \"Usia saat mendaftar\", \"Pindahan\", \"Pekerjaan Ayah\", \"Pekerjaan Ibu\", \"Daerah Asal\", \"Kelas Siang/Malam\", \"Pendidikan Ibu\", \"Pendidikan Ayah\", \"Beasiswa\", \"Berkebutuhan Khusus\", \"Jenis Kelamin\"])\n",
    "data_copy"
   ]
  },
  {
   "cell_type": "markdown",
   "metadata": {},
   "source": [
    "## LABEL ENCODING"
   ]
  },
  {
   "cell_type": "markdown",
   "metadata": {},
   "source": [
    "Pada teknik label LABEL ENCODING setiap kategori pada suatu nilai atau feature akan diurutkan secara alfabet dan direpresentasikan dengan sebuah nilai integer\n",
    "\n",
    "Teknik LABEL ENCODING pada kasus kita kali ini dapat berfungsi untuk mengubah nilai pada kolom Target dirubah menjadi nilai integer"
   ]
  },
  {
   "cell_type": "code",
   "execution_count": 5,
   "metadata": {},
   "outputs": [],
   "source": [
    "from sklearn.preprocessing import LabelEncoder\n"
   ]
  },
  {
   "cell_type": "code",
   "execution_count": 6,
   "metadata": {},
   "outputs": [],
   "source": [
    "encode = LabelEncoder()"
   ]
  },
  {
   "cell_type": "code",
   "execution_count": 7,
   "metadata": {},
   "outputs": [
    {
     "data": {
      "text/plain": [
       "array(['Gagal', 'Lulus Tepat Waktu', 'Lulus Tidak Tepat Waktu'],\n",
       "      dtype=object)"
      ]
     },
     "execution_count": 7,
     "metadata": {},
     "output_type": "execute_result"
    }
   ],
   "source": [
    "# encode.fit_transform(data_copy[\"Target\"])\n",
    "\n",
    "data_copy[\"Target\"] = encode.fit_transform(data_copy[\"Target\"])\n",
    "\n",
    "encode.classes_"
   ]
  },
  {
   "cell_type": "markdown",
   "metadata": {},
   "source": [
    "## PROBLEM\n",
    "\n",
    "Kita menemukan masalah, seperti yang kita tahu pada programming terutama dalam Python aturan dalam tipe data float menggunakan tanda titik(.) bukan tanda koma(,), sedangkan pada dataset kita menggunakan tanda koma(,)"
   ]
  },
  {
   "cell_type": "markdown",
   "metadata": {},
   "source": [
    "### SOLVE PROBLEM"
   ]
  },
  {
   "cell_type": "code",
   "execution_count": 8,
   "metadata": {},
   "outputs": [
    {
     "data": {
      "text/html": [
       "<div>\n",
       "<style scoped>\n",
       "    .dataframe tbody tr th:only-of-type {\n",
       "        vertical-align: middle;\n",
       "    }\n",
       "\n",
       "    .dataframe tbody tr th {\n",
       "        vertical-align: top;\n",
       "    }\n",
       "\n",
       "    .dataframe thead th {\n",
       "        text-align: right;\n",
       "    }\n",
       "</style>\n",
       "<table border=\"1\" class=\"dataframe\">\n",
       "  <thead>\n",
       "    <tr style=\"text-align: right;\">\n",
       "      <th></th>\n",
       "      <th>Nilai Ujian Masuk</th>\n",
       "      <th>IP Semester 1</th>\n",
       "      <th>Target</th>\n",
       "    </tr>\n",
       "  </thead>\n",
       "  <tbody>\n",
       "    <tr>\n",
       "      <th>0</th>\n",
       "      <td>52.95</td>\n",
       "      <td>2.36</td>\n",
       "      <td>2</td>\n",
       "    </tr>\n",
       "    <tr>\n",
       "      <th>1</th>\n",
       "      <td>66.05</td>\n",
       "      <td>2.75</td>\n",
       "      <td>1</td>\n",
       "    </tr>\n",
       "    <tr>\n",
       "      <th>2</th>\n",
       "      <td>63.7</td>\n",
       "      <td>2.23</td>\n",
       "      <td>1</td>\n",
       "    </tr>\n",
       "    <tr>\n",
       "      <th>3</th>\n",
       "      <td>64.75</td>\n",
       "      <td>2.46</td>\n",
       "      <td>1</td>\n",
       "    </tr>\n",
       "    <tr>\n",
       "      <th>4</th>\n",
       "      <td>63.35</td>\n",
       "      <td>2.43</td>\n",
       "      <td>1</td>\n",
       "    </tr>\n",
       "    <tr>\n",
       "      <th>...</th>\n",
       "      <td>...</td>\n",
       "      <td>...</td>\n",
       "      <td>...</td>\n",
       "    </tr>\n",
       "    <tr>\n",
       "      <th>95</th>\n",
       "      <td>75</td>\n",
       "      <td>2.80</td>\n",
       "      <td>1</td>\n",
       "    </tr>\n",
       "    <tr>\n",
       "      <th>96</th>\n",
       "      <td>65</td>\n",
       "      <td>2.60</td>\n",
       "      <td>2</td>\n",
       "    </tr>\n",
       "    <tr>\n",
       "      <th>97</th>\n",
       "      <td>67.55</td>\n",
       "      <td>2.70</td>\n",
       "      <td>1</td>\n",
       "    </tr>\n",
       "    <tr>\n",
       "      <th>98</th>\n",
       "      <td>55</td>\n",
       "      <td>2.14</td>\n",
       "      <td>2</td>\n",
       "    </tr>\n",
       "    <tr>\n",
       "      <th>99</th>\n",
       "      <td>68.1</td>\n",
       "      <td>2.20</td>\n",
       "      <td>1</td>\n",
       "    </tr>\n",
       "  </tbody>\n",
       "</table>\n",
       "<p>100 rows × 3 columns</p>\n",
       "</div>"
      ],
      "text/plain": [
       "   Nilai Ujian Masuk IP Semester 1  Target\n",
       "0              52.95          2.36       2\n",
       "1              66.05          2.75       1\n",
       "2               63.7          2.23       1\n",
       "3              64.75          2.46       1\n",
       "4              63.35          2.43       1\n",
       "..               ...           ...     ...\n",
       "95                75          2.80       1\n",
       "96                65          2.60       2\n",
       "97             67.55          2.70       1\n",
       "98                55          2.14       2\n",
       "99              68.1          2.20       1\n",
       "\n",
       "[100 rows x 3 columns]"
      ]
     },
     "execution_count": 8,
     "metadata": {},
     "output_type": "execute_result"
    }
   ],
   "source": [
    "nilai_ujian_masuk = []\n",
    "ip_semester_1 = []\n",
    "\n",
    "for i in range(len(data_copy)):\n",
    "    nilai = data_copy[\"Nilai Ujian Masuk\"][i].split(\",\")\n",
    "    ip = data_copy[\"IP Semester 1\"][i].split(\",\")\n",
    "    \n",
    "    nilai_ujian_masuk.append(\".\".join(nilai))\n",
    "    ip_semester_1.append(\".\".join(ip))    \n",
    "    \n",
    "nilai_ujian_masuk = np.array(nilai_ujian_masuk).reshape(-1, 1)\n",
    "ip_semester_1 = np.array(ip_semester_1).reshape(-1, 1)\n",
    "\n",
    "data_copy[\"IP Semester 1\"], data_copy[\"Nilai Ujian Masuk\"] = ip_semester_1, nilai_ujian_masuk\n",
    "\n",
    "\n",
    "data_copy\n"
   ]
  },
  {
   "cell_type": "code",
   "execution_count": 9,
   "metadata": {},
   "outputs": [],
   "source": [
    "X = data_copy[[\"Nilai Ujian Masuk\", \"IP Semester 1\"]]\n",
    "y = data_copy[\"Target\"]"
   ]
  },
  {
   "cell_type": "markdown",
   "metadata": {},
   "source": [
    "## SPLITTING DATASET\n",
    "\n",
    "Memisahkan antara dataset untuk testing dan dataset untuk training"
   ]
  },
  {
   "cell_type": "code",
   "execution_count": 10,
   "metadata": {},
   "outputs": [],
   "source": [
    "from sklearn.model_selection import train_test_split"
   ]
  },
  {
   "cell_type": "code",
   "execution_count": 11,
   "metadata": {},
   "outputs": [
    {
     "name": "stdout",
     "output_type": "stream",
     "text": [
      "Test data = 10\n",
      "Train data = 90\n"
     ]
    }
   ],
   "source": [
    "X_train, X_test, y_train, y_test = train_test_split(X, y, test_size=0.1)\n",
    "\n",
    "print(f\"Test data = {len(X_test)}\")\n",
    "print(f\"Train data = {len(X_train)}\")\n",
    "\n",
    "\n"
   ]
  },
  {
   "cell_type": "code",
   "execution_count": 12,
   "metadata": {},
   "outputs": [
    {
     "name": "stdout",
     "output_type": "stream",
     "text": [
      "['Gagal' 'Lulus Tepat Waktu' 'Lulus Tidak Tepat Waktu']\n"
     ]
    }
   ],
   "source": [
    "print(encode.classes_)"
   ]
  },
  {
   "cell_type": "code",
   "execution_count": 13,
   "metadata": {},
   "outputs": [
    {
     "data": {
      "image/png": "[encoded data removed]",
      "text/plain": [
       "<Figure size 640x480 with 1 Axes>"
      ]
     },
     "metadata": {},
     "output_type": "display_data"
    }
   ],
   "source": [
    "fig, ax = plt.subplots()\n",
    "\n",
    "for target, d in data_copy.groupby('Target'):\n",
    "    ax.scatter(d['Nilai Ujian Masuk'], d['IP Semester 1'], label=target)\n",
    "\n",
    "plt.xlabel(\"Tinggi Badan\")\n",
    "plt.ylabel(\"Berat Badan\")\n",
    "plt.legend()\n",
    "plt.show()"
   ]
  },
  {
   "cell_type": "markdown",
   "metadata": {},
   "source": [
    "## KNN (K-Nearest Neighbor)"
   ]
  },
  {
   "cell_type": "code",
   "execution_count": 14,
   "metadata": {},
   "outputs": [],
   "source": [
    "from sklearn.neighbors import KNeighborsClassifier"
   ]
  },
  {
   "cell_type": "code",
   "execution_count": 15,
   "metadata": {},
   "outputs": [
    {
     "data": {
      "text/plain": [
       "KNeighborsClassifier(n_neighbors=10)"
      ]
     },
     "execution_count": 15,
     "metadata": {},
     "output_type": "execute_result"
    }
   ],
   "source": [
    "model = KNeighborsClassifier(n_neighbors=10)\n",
    "model.fit(X_train, y_train)"
   ]
  },
  {
   "cell_type": "code",
   "execution_count": 16,
   "metadata": {},
   "outputs": [
    {
     "name": "stderr",
     "output_type": "stream",
     "text": [
      "C:\\ProgramData\\Anaconda3\\lib\\site-packages\\sklearn\\neighbors\\_classification.py:228: FutureWarning: Unlike other reduction functions (e.g. `skew`, `kurtosis`), the default behavior of `mode` typically preserves the axis it acts along. In SciPy 1.11.0, this behavior will change: the default value of `keepdims` will become False, the `axis` over which the statistic is taken will be eliminated, and the value None will no longer be accepted. Set `keepdims` to True or False to avoid this warning.\n",
      "  mode, _ = stats.mode(_y[neigh_ind, k], axis=1)\n"
     ]
    }
   ],
   "source": [
    "y_test.to_numpy()\n",
    "y_pred = model.predict(X_test)\n",
    "# print(y_pred)"
   ]
  },
  {
   "cell_type": "code",
   "execution_count": 17,
   "metadata": {},
   "outputs": [],
   "source": [
    "X_anyar = np.array([56.85, 2.68]).reshape(1, -1)\n",
    "\n",
    "# model.predict(X_test)"
   ]
  },
  {
   "cell_type": "markdown",
   "metadata": {},
   "source": [
    "## EVALUASI MODEL"
   ]
  },
  {
   "cell_type": "code",
   "execution_count": 62,
   "metadata": {},
   "outputs": [
    {
     "data": {
      "text/plain": [
       "0.8"
      ]
     },
     "execution_count": 62,
     "metadata": {},
     "output_type": "execute_result"
    }
   ],
   "source": [
    "from sklearn.metrics import accuracy_score\n",
    "# print(f\"Y test ; {y_test}\")\n",
    "accuracy_score(y_test, y_pred)"
   ]
  }
 ],
 "metadata": {
  "kernelspec": {
   "display_name": "Python 3 (ipykernel)",
   "language": "python",
   "name": "python3"
  },
  "language_info": {
   "codemirror_mode": {
    "name": "ipython",
    "version": 3
   },
   "file_extension": ".py",
   "mimetype": "text/x-python",
   "name": "python",
   "nbconvert_exporter": "python",
   "pygments_lexer": "ipython3",
   "version": "3.10.10"
  },
  "vscode": {
   "interpreter": {
    "hash": "556772669ebe5a27ca40392875ce4b39cf56ba55ae837affcc4c3d448441d4cb"
   }
  }
 },
 "nbformat": 4,
 "nbformat_minor": 4
}
